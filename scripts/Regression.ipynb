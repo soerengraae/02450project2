{
 "cells": [
  {
   "cell_type": "markdown",
   "metadata": {},
   "source": [
    "# Regression Part A\n"
   ]
  },
  {
   "cell_type": "markdown",
   "metadata": {},
   "source": [
    "## 1) Explaination of the regression model\n",
    "\n",
    "The goal of the regression is to predict the Symboling (risk factor) of a car based on its features, with the maximum accuracy possible.\n",
    "In terms of feature transformation, we will use one-hot encoding for the categorical features (make, fuel-type, aspiration, num-of-doors, body-style, drive-wheels, engine-location, engine-type, num-of-cylinders, fuel-system) and standard scaling for the numerical features (normalized-losses, wheel-base, length, width, height, curb-weight, engine-size, bore, stroke, compression-ratio, horsepower, peak-rpm, city-mpg, highway-mpg, price).\n",
    "\n"
   ]
  },
  {
   "cell_type": "code",
   "execution_count": 9,
   "metadata": {},
   "outputs": [],
   "source": [
    "import importlib_resources\n",
    "import numpy as np\n",
    "import sklearn.linear_model as lm\n",
    "from matplotlib.pylab import (\n",
    "    figure,\n",
    "    grid,\n",
    "    legend,\n",
    "    loglog,\n",
    "    semilogx,\n",
    "    show,\n",
    "    subplot,\n",
    "    title,\n",
    "    xlabel,\n",
    "    ylabel,\n",
    ")\n",
    "from scipy.io import loadmat\n",
    "from sklearn import model_selection\n",
    "\n",
    "from dtuimldmtools import rlr_validate\n"
   ]
  },
  {
   "cell_type": "code",
   "execution_count": 19,
   "metadata": {},
   "outputs": [],
   "source": [
    "from data_load import getTargets\n",
    "from data_standardization import X as X_num, missing_values as missing_values_num\n",
    "from data_encoding import X as X_cat, missing_values as missing_values_cat\n",
    "import pandas as pd\n",
    "from sklearn.model_selection import KFold\n",
    "import numpy as np\n",
    "from sklearn.preprocessing import StandardScaler\n",
    "from sklearn import model_selection\n",
    "from dtuimldmtools import rlr_validate\n",
    "from data_load import categorical_features, numerical_features\n",
    "import matplotlib.pyplot as plt\n",
    "\n",
    "\n",
    "\n",
    "missing_values = list(set(missing_values_num).union(set(missing_values_cat)))\n",
    "\n",
    "X = pd.concat([X_num, X_cat], axis=1)\n",
    "y = getTargets()\n",
    "\n",
    "X = X.drop(missing_values)\n",
    "y = y.drop(missing_values)\n",
    "\n",
    "X = X.reset_index(drop=True)\n",
    "y = y.reset_index(drop=True)\n",
    "\n",
    "# Standardize X to make sure X_cat is also standardized, and to make sure that the mean and std of each column is 0 and 1 even without the rows with missing values\n",
    "scaler = StandardScaler()\n",
    "X = scaler.fit_transform(X)\n",
    "\n",
    "# Change X and y into a arrays\n",
    "X = np.array(X)\n",
    "y = np.array(y).squeeze()\n",
    "\n",
    "N, M = X.shape\n",
    "\n",
    "\n",
    "\n",
    "\n"
   ]
  },
  {
   "cell_type": "code",
   "execution_count": 31,
   "metadata": {},
   "outputs": [
    {
     "ename": "ValueError",
     "evalue": "operands could not be broadcast together with shapes (180,) (180,100) ",
     "output_type": "error",
     "traceback": [
      "\u001b[0;31m---------------------------------------------------------------------------\u001b[0m",
      "\u001b[0;31mValueError\u001b[0m                                Traceback (most recent call last)",
      "Cell \u001b[0;32mIn[31], line 37\u001b[0m\n\u001b[1;32m     32\u001b[0m opt_val_err, opt_lambda, mean_w_vs_lambda, train_err_vs_lambda, test_err_vs_lambda \u001b[38;5;241m=\u001b[39m rlr_validate(\n\u001b[1;32m     33\u001b[0m     X_train, y_train, lambda_interval, \u001b[38;5;241m10\u001b[39m\n\u001b[1;32m     34\u001b[0m )\n\u001b[1;32m     36\u001b[0m \u001b[38;5;66;03m# Compute mean squared error with ridge regression\u001b[39;00m\n\u001b[0;32m---> 37\u001b[0m Error_train_rlr[k] \u001b[38;5;241m=\u001b[39m np\u001b[38;5;241m.\u001b[39msquare(y_train \u001b[38;5;241m-\u001b[39m X_train \u001b[38;5;241m@\u001b[39m mean_w_vs_lambda)\u001b[38;5;241m.\u001b[39msum() \u001b[38;5;241m/\u001b[39m y_train\u001b[38;5;241m.\u001b[39mshape[\u001b[38;5;241m0\u001b[39m]\n\u001b[1;32m     38\u001b[0m Error_test_rlr[k] \u001b[38;5;241m=\u001b[39m np\u001b[38;5;241m.\u001b[39msquare(y_test \u001b[38;5;241m-\u001b[39m X_test \u001b[38;5;241m@\u001b[39m mean_w_vs_lambda)\u001b[38;5;241m.\u001b[39msum() \u001b[38;5;241m/\u001b[39m y_test\u001b[38;5;241m.\u001b[39mshape[\u001b[38;5;241m0\u001b[39m]\n\u001b[1;32m     40\u001b[0m k \u001b[38;5;241m=\u001b[39m k \u001b[38;5;241m+\u001b[39m \u001b[38;5;241m1\u001b[39m\n",
      "\u001b[0;31mValueError\u001b[0m: operands could not be broadcast together with shapes (180,) (180,100) "
     ]
    }
   ],
   "source": [
    "# Create a linear regression model\n",
    "model = lm.LinearRegression(fit_intercept=True)\n",
    "\n",
    "# Create a KFold object\n",
    "K = 10\n",
    "CV = model_selection.KFold(K, shuffle=True)\n",
    "\n",
    "# Initialize variables\n",
    "Error_train = np.empty((K, 1))\n",
    "Error_test = np.empty((K, 1))\n",
    "Error_train_rlr = np.empty((K, 1))\n",
    "Error_test_rlr = np.empty((K, 1))\n",
    "\n",
    "k = 0\n",
    "for train_index, test_index in CV.split(X):\n",
    "    # extract training and test set for current CV fold\n",
    "    X_train = X[train_index]\n",
    "    y_train = y[train_index]\n",
    "    X_test = X[test_index]\n",
    "    y_test = y[test_index]\n",
    "\n",
    "    # Fit ordinary least squares regression model\n",
    "    model = lm.LinearRegression(fit_intercept=True)\n",
    "    model = model.fit(X_train, y_train)\n",
    "\n",
    "    # Compute mean squared error without using the input data at all\n",
    "    Error_train[k] = np.square(y_train - model.predict(X_train)).sum() / y_train.shape[0]\n",
    "    Error_test[k] = np.square(y_test - model.predict(X_test)).sum() / y_test.shape[0]\n",
    "\n",
    "    # Fit ridge regression model\n",
    "    lambda_interval = np.logspace(-8, 2, 100)\n",
    "    opt_val_err, opt_lambda, mean_w_vs_lambda, train_err_vs_lambda, test_err_vs_lambda = rlr_validate(\n",
    "        X_train, y_train, lambda_interval, 10\n",
    "    )\n",
    "\n",
    "    # Compute mean squared error with ridge regression\n",
    "    Error_train_rlr[k] = np.square(y_train - X_train @ mean_w_vs_lambda).sum() / y_train.shape[0]\n",
    "    Error_test_rlr[k] = np.square(y_test - X_test @ mean_w_vs_lambda).sum() / y_test.shape[0]\n",
    "\n",
    "    k = k + 1\n",
    "\n"
   ]
  }
 ],
 "metadata": {
  "kernelspec": {
   "display_name": "my_environment",
   "language": "python",
   "name": "python3"
  },
  "language_info": {
   "codemirror_mode": {
    "name": "ipython",
    "version": 3
   },
   "file_extension": ".py",
   "mimetype": "text/x-python",
   "name": "python",
   "nbconvert_exporter": "python",
   "pygments_lexer": "ipython3",
   "version": "3.11.5"
  }
 },
 "nbformat": 4,
 "nbformat_minor": 2
}
